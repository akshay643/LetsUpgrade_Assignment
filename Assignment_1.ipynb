{
 "cells": [
  {
   "cell_type": "markdown",
   "metadata": {},
   "source": [
    "# Q1. Write a python code that takes two number as the input and print the result of addition,subtraction, multiplication and division of to number"
   ]
  },
  {
   "cell_type": "code",
   "execution_count": 10,
   "metadata": {},
   "outputs": [
    {
     "name": "stdout",
     "output_type": "stream",
     "text": [
      "enter the first number5\n",
      "enter the second number4\n",
      "Sum of two numbers is: 9\n",
      "Subtraction of two numbers is: 1\n",
      "Multiplication of two numbers is: 20\n",
      "Division of two numbers is: 1.25\n"
     ]
    }
   ],
   "source": [
    "a = int(input('enter the first number'))\n",
    "b = int(input('enter the second number'))\n",
    "print('Sum of two numbers is:',(a+b))\n",
    "print('Subtraction of two numbers is:',(a-b))\n",
    "print('Multiplication of two numbers is:',(a*b))\n",
    "print('Division of two numbers is:',(a/b))"
   ]
  },
  {
   "cell_type": "markdown",
   "metadata": {},
   "source": [
    "# Q2. Write a python code that takes two number as the input and print the result of addition,subtraction, multiplication and division of to number"
   ]
  },
  {
   "cell_type": "code",
   "execution_count": 12,
   "metadata": {},
   "outputs": [
    {
     "name": "stdout",
     "output_type": "stream",
     "text": [
      "enter the first number4\n",
      "enter the second number4\n",
      "Result: 256\n"
     ]
    }
   ],
   "source": [
    "x = int(input('enter the first number'))\n",
    "y = int(input('enter the second number'))\n",
    "print('Result:',(x**y))"
   ]
  },
  {
   "cell_type": "code",
   "execution_count": null,
   "metadata": {},
   "outputs": [],
   "source": []
  }
 ],
 "metadata": {
  "kernelspec": {
   "display_name": "Python 3",
   "language": "python",
   "name": "python3"
  },
  "language_info": {
   "codemirror_mode": {
    "name": "ipython",
    "version": 3
   },
   "file_extension": ".py",
   "mimetype": "text/x-python",
   "name": "python",
   "nbconvert_exporter": "python",
   "pygments_lexer": "ipython3",
   "version": "3.8.3"
  }
 },
 "nbformat": 4,
 "nbformat_minor": 4
}
